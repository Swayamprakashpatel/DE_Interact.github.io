{
  "nbformat": 4,
  "nbformat_minor": 0,
  "metadata": {
    "colab": {
      "provenance": [],
      "authorship_tag": "ABX9TyPqd5NommzXhLJTk6s3pIqI",
      "include_colab_link": true
    },
    "kernelspec": {
      "name": "python3",
      "display_name": "Python 3"
    },
    "language_info": {
      "name": "python"
    }
  },
  "cells": [
    {
      "cell_type": "markdown",
      "metadata": {
        "id": "view-in-github",
        "colab_type": "text"
      },
      "source": [
        "<a href=\"https://colab.research.google.com/github/Swayamprakashpatel/DE_Interact.github.io/blob/main/DE_Interact_WebLink.ipynb\" target=\"_parent\"><img src=\"https://colab.research.google.com/assets/colab-badge.svg\" alt=\"Open In Colab\"/></a>"
      ]
    },
    {
      "cell_type": "code",
      "execution_count": 1,
      "metadata": {
        "colab": {
          "base_uri": "https://localhost:8080/",
          "height": 383
        },
        "id": "8ERhqgzkUFCE",
        "outputId": "29bd4f33-bcc5-403c-d311-fd69deaa6c14"
      },
      "outputs": [
        {
          "output_type": "error",
          "ename": "ModuleNotFoundError",
          "evalue": "No module named 'pubchempy'",
          "traceback": [
            "\u001b[0;31m---------------------------------------------------------------------------\u001b[0m",
            "\u001b[0;31mModuleNotFoundError\u001b[0m                       Traceback (most recent call last)",
            "\u001b[0;32m/tmp/ipython-input-3679481713.py\u001b[0m in \u001b[0;36m<cell line: 0>\u001b[0;34m()\u001b[0m\n\u001b[1;32m      5\u001b[0m \u001b[0;32mimport\u001b[0m \u001b[0mio\u001b[0m\u001b[0;34m\u001b[0m\u001b[0;34m\u001b[0m\u001b[0m\n\u001b[1;32m      6\u001b[0m \u001b[0;32mfrom\u001b[0m \u001b[0mtensorflow\u001b[0m \u001b[0;32mimport\u001b[0m \u001b[0mkeras\u001b[0m\u001b[0;34m\u001b[0m\u001b[0;34m\u001b[0m\u001b[0m\n\u001b[0;32m----> 7\u001b[0;31m \u001b[0;32mimport\u001b[0m \u001b[0mpubchempy\u001b[0m \u001b[0;32mas\u001b[0m \u001b[0mpcp\u001b[0m\u001b[0;34m\u001b[0m\u001b[0;34m\u001b[0m\u001b[0m\n\u001b[0m\u001b[1;32m      8\u001b[0m \u001b[0;32mfrom\u001b[0m \u001b[0msklearn\u001b[0m\u001b[0;34m.\u001b[0m\u001b[0mpreprocessing\u001b[0m \u001b[0;32mimport\u001b[0m \u001b[0mOneHotEncoder\u001b[0m\u001b[0;34m\u001b[0m\u001b[0;34m\u001b[0m\u001b[0m\n\u001b[1;32m      9\u001b[0m \u001b[0;32mfrom\u001b[0m \u001b[0mkeras\u001b[0m\u001b[0;34m.\u001b[0m\u001b[0mmodels\u001b[0m \u001b[0;32mimport\u001b[0m \u001b[0mload_model\u001b[0m\u001b[0;34m\u001b[0m\u001b[0;34m\u001b[0m\u001b[0m\n",
            "\u001b[0;31mModuleNotFoundError\u001b[0m: No module named 'pubchempy'",
            "",
            "\u001b[0;31m---------------------------------------------------------------------------\u001b[0;32m\nNOTE: If your import is failing due to a missing package, you can\nmanually install dependencies using either !pip or !apt.\n\nTo view examples of installing some common dependencies, click the\n\"Open Examples\" button below.\n\u001b[0;31m---------------------------------------------------------------------------\u001b[0m\n"
          ],
          "errorDetails": {
            "actions": [
              {
                "action": "open_url",
                "actionText": "Open Examples",
                "url": "/notebooks/snippets/importing_libraries.ipynb"
              }
            ]
          }
        }
      ],
      "source": [
        "# @title Default title text\n",
        "!pip install pubchempy\n",
        "1pip install gradio\n",
        "import tensorflow as tf\n",
        "import pandas as pd\n",
        "import numpy as np\n",
        "import io\n",
        "from tensorflow import keras\n",
        "import pubchempy as pcp\n",
        "from sklearn.preprocessing import OneHotEncoder\n",
        "from keras.models import load_model\n",
        "import time as tm\n",
        "import gdown\n",
        "import gradio as gr\n",
        "\n",
        "# --- Model Loading and Setup ---\n",
        "file_id = '13BpkcW3IRhbVWAVHK7JPwtB7WCSyG73W'\n",
        "destination = '/content/sample_data/Model.hdf5'\n",
        "\n",
        "gdown.download(f'https://drive.google.com/uc?id={file_id}', destination, quiet=True)\n",
        "model = load_model(destination, compile=False)\n",
        "\n",
        "Y1 = np.array([['Possibally Compatible'], ['Possibally Incompatible']])\n",
        "enc = OneHotEncoder(handle_unknown='ignore')\n",
        "enc.fit(Y1)\n",
        "\n",
        "# --- Core Prediction Function ---\n",
        "def predict_compatibility(drug_cid, excipient_cid):\n",
        "    \"\"\"\n",
        "    Predicts the compatibility of a drug and an excipient based on their PubChem CIDs.\n",
        "    \"\"\"\n",
        "    try:\n",
        "        CID_D = pcp.Compound.from_cid(drug_cid)\n",
        "        CID_E = pcp.Compound.from_cid(excipient_cid)\n",
        "\n",
        "        FPD = CID_D.cactvs_fingerprint\n",
        "        FPE = CID_E.cactvs_fingerprint\n",
        "\n",
        "        List = list(FPD) + list(FPE)\n",
        "        t = pd.DataFrame(np.array(List).reshape(-1, len(List)))\n",
        "        X_Predict = t.values[:, 0:1762].astype(int)\n",
        "\n",
        "        t1 = model.predict(X_Predict)\n",
        "        t2 = np.round(t1)\n",
        "        Y_prediction = enc.inverse_transform(t2)\n",
        "\n",
        "        if Y_prediction[0][0] == 'Possibally Incompatible':\n",
        "            probability = t1[0][1]\n",
        "            return f\"❌ Incompatible (Probability: {probability:.2f})\"\n",
        "        else:\n",
        "            probability = t1[0][0]\n",
        "            return f\"✅ Compatible (Probability: {probability:.2f})\"\n",
        "\n",
        "    except Exception as e:\n",
        "        return f\"🚨 Error: Could not process CIDs. Please check if they are valid. ({e})\"\n",
        "\n",
        "# --- Gradio Interface with Flagging Disabled ---\n",
        "# The 'allow_flagging=\"never\"' parameter disables the Flag button.\n",
        "iface = gr.Interface(\n",
        "    fn=predict_compatibility,\n",
        "    inputs=[\n",
        "        gr.Number(label=\"Drug PubChem Compound ID (CID)\"),\n",
        "        gr.Number(label=\"Excipient PubChem Compound ID (CID)\")\n",
        "    ],\n",
        "    outputs=gr.Textbox(label=\"Prediction Result\"),\n",
        "    title=\"Drug-Excipient Compatibility Predictor\",\n",
        "    description=\"Enter the PubChem CIDs for a drug and an excipient to predict their compatibility using a neural network model.\",\n",
        "    allow_flagging=\"never\"  # 👈 This line disables the Flag button\n",
        ")\n",
        "\n",
        "iface.launch(share=True)"
      ]
    },
    {
      "cell_type": "code",
      "source": [],
      "metadata": {
        "id": "x9rleqYQU7nF"
      },
      "execution_count": null,
      "outputs": []
    }
  ]
}