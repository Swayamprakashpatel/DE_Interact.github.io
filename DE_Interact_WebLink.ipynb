{
  "nbformat": 4,
  "nbformat_minor": 0,
  "metadata": {
    "colab": {
      "provenance": [],
      "authorship_tag": "ABX9TyPDyVajocccopdAJWq6V5OL",
      "include_colab_link": true
    },
    "kernelspec": {
      "name": "python3",
      "display_name": "Python 3"
    },
    "language_info": {
      "name": "python"
    }
  },
  "cells": [
    {
      "cell_type": "markdown",
      "metadata": {
        "id": "view-in-github",
        "colab_type": "text"
      },
      "source": [
        "<a href=\"https://colab.research.google.com/github/Swayamprakashpatel/DE_Interact.github.io/blob/main/DE_Interact_WebLink.ipynb\" target=\"_parent\"><img src=\"https://colab.research.google.com/assets/colab-badge.svg\" alt=\"Open In Colab\"/></a>"
      ]
    },
    {
      "cell_type": "code",
      "execution_count": 9,
      "metadata": {
        "colab": {
          "base_uri": "https://localhost:8080/",
          "height": 680
        },
        "cellView": "form",
        "id": "8ERhqgzkUFCE",
        "outputId": "1841aec7-cec2-468e-d563-4b24c0e57dbe"
      },
      "outputs": [
        {
          "output_type": "stream",
          "name": "stderr",
          "text": [
            "/usr/local/lib/python3.11/dist-packages/keras/src/layers/core/dense.py:93: UserWarning: Do not pass an `input_shape`/`input_dim` argument to a layer. When using Sequential models, prefer using an `Input(shape)` object as the first layer in the model instead.\n",
            "  super().__init__(activity_regularizer=activity_regularizer, **kwargs)\n",
            "/usr/local/lib/python3.11/dist-packages/gradio/interface.py:425: UserWarning: The `allow_flagging` parameter in `Interface` is deprecated. Use `flagging_mode` instead.\n",
            "  warnings.warn(\n"
          ]
        },
        {
          "output_type": "stream",
          "name": "stdout",
          "text": [
            "Colab notebook detected. To show errors in colab notebook, set debug=True in launch()\n",
            "* Running on public URL: https://66918c56b3b3e0571c.gradio.live\n",
            "\n",
            "This share link expires in 1 week. For free permanent hosting and GPU upgrades, run `gradio deploy` from the terminal in the working directory to deploy to Hugging Face Spaces (https://huggingface.co/spaces)\n"
          ]
        },
        {
          "output_type": "display_data",
          "data": {
            "text/plain": [
              "<IPython.core.display.HTML object>"
            ],
            "text/html": [
              "<div><iframe src=\"https://66918c56b3b3e0571c.gradio.live\" width=\"100%\" height=\"500\" allow=\"autoplay; camera; microphone; clipboard-read; clipboard-write;\" frameborder=\"0\" allowfullscreen></iframe></div>"
            ]
          },
          "metadata": {}
        },
        {
          "output_type": "execute_result",
          "data": {
            "text/plain": []
          },
          "metadata": {},
          "execution_count": 9
        }
      ],
      "source": [
        "# @title Default title text\n",
        "import tensorflow as tf\n",
        "import pandas as pd\n",
        "import numpy as np\n",
        "import io\n",
        "from tensorflow import keras\n",
        "import pubchempy as pcp\n",
        "from sklearn.preprocessing import OneHotEncoder\n",
        "from keras.models import load_model\n",
        "import time as tm\n",
        "import gdown\n",
        "import gradio as gr\n",
        "\n",
        "# --- Model Loading and Setup ---\n",
        "file_id = '13BpkcW3IRhbVWAVHK7JPwtB7WCSyG73W'\n",
        "destination = '/content/sample_data/Model.hdf5'\n",
        "\n",
        "gdown.download(f'https://drive.google.com/uc?id={file_id}', destination, quiet=True)\n",
        "model = load_model(destination, compile=False)\n",
        "\n",
        "Y1 = np.array([['Possibally Compatible'], ['Possibally Incompatible']])\n",
        "enc = OneHotEncoder(handle_unknown='ignore')\n",
        "enc.fit(Y1)\n",
        "\n",
        "# --- Core Prediction Function ---\n",
        "def predict_compatibility(drug_cid, excipient_cid):\n",
        "    \"\"\"\n",
        "    Predicts the compatibility of a drug and an excipient based on their PubChem CIDs.\n",
        "    \"\"\"\n",
        "    try:\n",
        "        CID_D = pcp.Compound.from_cid(drug_cid)\n",
        "        CID_E = pcp.Compound.from_cid(excipient_cid)\n",
        "\n",
        "        FPD = CID_D.cactvs_fingerprint\n",
        "        FPE = CID_E.cactvs_fingerprint\n",
        "\n",
        "        List = list(FPD) + list(FPE)\n",
        "        t = pd.DataFrame(np.array(List).reshape(-1, len(List)))\n",
        "        X_Predict = t.values[:, 0:1762].astype(int)\n",
        "\n",
        "        t1 = model.predict(X_Predict)\n",
        "        t2 = np.round(t1)\n",
        "        Y_prediction = enc.inverse_transform(t2)\n",
        "\n",
        "        if Y_prediction[0][0] == 'Possibally Incompatible':\n",
        "            probability = t1[0][1]\n",
        "            return f\"❌ Incompatible (Probability: {probability:.2f})\"\n",
        "        else:\n",
        "            probability = t1[0][0]\n",
        "            return f\"✅ Compatible (Probability: {probability:.2f})\"\n",
        "\n",
        "    except Exception as e:\n",
        "        return f\"🚨 Error: Could not process CIDs. Please check if they are valid. ({e})\"\n",
        "\n",
        "# --- Gradio Interface with Flagging Disabled ---\n",
        "# The 'allow_flagging=\"never\"' parameter disables the Flag button.\n",
        "iface = gr.Interface(\n",
        "    fn=predict_compatibility,\n",
        "    inputs=[\n",
        "        gr.Number(label=\"Drug PubChem Compound ID (CID)\"),\n",
        "        gr.Number(label=\"Excipient PubChem Compound ID (CID)\")\n",
        "    ],\n",
        "    outputs=gr.Textbox(label=\"Prediction Result\"),\n",
        "    title=\"Drug-Excipient Compatibility Predictor\",\n",
        "    description=\"Enter the PubChem CIDs for a drug and an excipient to predict their compatibility using a neural network model.\",\n",
        "    allow_flagging=\"never\"  # 👈 This line disables the Flag button\n",
        ")\n",
        "\n",
        "iface.launch(share=True)"
      ]
    },
    {
      "cell_type": "code",
      "source": [],
      "metadata": {
        "id": "x9rleqYQU7nF"
      },
      "execution_count": null,
      "outputs": []
    }
  ]
}